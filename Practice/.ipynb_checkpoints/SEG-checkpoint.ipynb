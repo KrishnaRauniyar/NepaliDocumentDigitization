{
 "cells": [
  {
   "cell_type": "code",
   "execution_count": null,
   "metadata": {},
   "outputs": [
    {
     "name": "stdout",
     "output_type": "stream",
     "text": [
      "1310\n",
      "[[1 1 1 1 1 1 1 1 1 1 1 1 1 1 1 1 1 1 1 1 1 1 1 1 1 1 1 1 1 1 1 1 1 1 1 1\n",
      "  1 1 1 1 1 1 1]]\n",
      "[[0 0 0 ... 0 0 0]\n",
      " [0 0 0 ... 0 0 0]\n",
      " [0 0 0 ... 0 0 0]\n",
      " ...\n",
      " [0 0 0 ... 0 0 0]\n",
      " [0 0 0 ... 0 0 0]\n",
      " [0 0 0 ... 0 0 0]]\n",
      "image\n",
      "[[0 0 0 0 0 0 0 0 0 0 0 0 0 0 0 0 0 0 0 0 0 0 0 0 0 0 0 0 0 0 0 0 0 0 0 0\n",
      "  0 0 0 0 0 0 0]]\n"
     ]
    }
   ],
   "source": [
    "import cv2 as cv\n",
    "import numpy as np\n",
    "src = cv.imread('k1.jpg', cv.IMREAD_COLOR)\n",
    "cv.imshow(\"src\", src)\n",
    "\n",
    "gray = cv.cvtColor(src, cv.COLOR_BGR2GRAY)\n",
    "cv.imshow(\"gray\", gray)\n",
    "# Apply adaptiveThreshold at the bitwise_not of gray, notice the ~ symbol\n",
    "gray = cv.bitwise_not(gray)\n",
    "bw = cv.adaptiveThreshold(gray, 255, cv.ADAPTIVE_THRESH_MEAN_C, \\\n",
    "                            cv.THRESH_BINARY, 15, -2)\n",
    "# Show binary image\n",
    "cv.imshow(\"binary\", bw)\n",
    "\n",
    "# Create the images that will use to extract the horizontal and vertical lines\n",
    "horizontal = np.copy(bw)\n",
    "vertical = np.copy(bw)\n",
    " # Specify size on horizontal axis\n",
    "cols = horizontal.shape[1]\n",
    "horizontal_size = cols // 30\n",
    "# Create structure element for extracting horizontal lines through morphology operations\n",
    "horizontalStructure = cv.getStructuringElement(cv.MORPH_RECT, (horizontal_size, 1))\n",
    "\n",
    "# Apply morphology operations\n",
    "horizontal1 = cv.erode(horizontal, horizontalStructure)\n",
    "horizontal1 = cv.dilate(horizontal1, horizontalStructure)\n",
    "\n",
    "# # Show extracted horizontal lines\n",
    "cv.imshow(\"horizontal\", horizontal1)\n",
    "## removing the line form character\n",
    "filled_black=horizontal-horizontal1\n",
    "cv.imshow('filled',filled_black)\n",
    "print(cols)\n",
    "print(horizontalStructure)\n",
    "print(horizontal1)\n",
    "print('image')\n",
    "print(horizontalStructure-1)\n",
    "cv.waitKey(0) \n",
    "\n",
    "# cv.destroyAllWindows()"
   ]
  },
  {
   "cell_type": "code",
   "execution_count": null,
   "metadata": {},
   "outputs": [],
   "source": []
  }
 ],
 "metadata": {
  "kernelspec": {
   "display_name": "Python 3",
   "language": "python",
   "name": "python3"
  },
  "language_info": {
   "codemirror_mode": {
    "name": "ipython",
    "version": 3
   },
   "file_extension": ".py",
   "mimetype": "text/x-python",
   "name": "python",
   "nbconvert_exporter": "python",
   "pygments_lexer": "ipython3",
   "version": "3.7.4"
  }
 },
 "nbformat": 4,
 "nbformat_minor": 2
}
