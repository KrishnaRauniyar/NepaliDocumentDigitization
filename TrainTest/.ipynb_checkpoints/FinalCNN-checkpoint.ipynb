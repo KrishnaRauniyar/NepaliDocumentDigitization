{
 "cells": [
  {
   "cell_type": "code",
   "execution_count": null,
   "metadata": {},
   "outputs": [],
   "source": [
    "import matplotlib.pyplot as plt\n",
    "from PIL import Image\n",
    "import numpy as np\n",
    "import random\n",
    "from keras.preprocessing.image import ImageDataGenerator\n",
    "from keras import layers, callbacks, optimizers, models\n",
    "from keras.models import Sequential"
   ]
  },
  {
   "cell_type": "code",
   "execution_count": null,
   "metadata": {},
   "outputs": [],
   "source": [
    "num_of_classes = 46\n",
    "classifier = Sequential()\n",
    "classifier.add(layers.Conv2D(32, (3,3), activation='relu', input_shape=(32,32,1)))\n",
    "classifier.add(layers.MaxPooling2D((2,2)))\n",
    "classifier.add(layers.Conv2D(64, (3,3), activation='relu'))\n",
    "classifier.add(layers.MaxPooling2D((2,2)))\n",
    "classifier.add(layers.Conv2D(64,(3,3), activation='relu'))\n",
    "classifier.add(layers.Flatten())\n",
    "classifier.add(layers.Dense(64, activation='relu'))\n",
    "classifier.add(layers.Dense(num_of_classes, activation='softmax'))\n",
    "classifier.compile(optimizer='adam',loss='categorical_crossentropy',metrics=['accuracy'])\n",
    "# opt = optimizers.Adam(lr=0.0015, beta_1=0.9, beta_2=0.99, epsilon=None, decay=0.0, amsgrad=False)\n",
    "# classifier.compile(optimizer=opt, loss='categorical_crossentropy', metrics=['accuracy'])"
   ]
  },
  {
   "cell_type": "code",
   "execution_count": null,
   "metadata": {},
   "outputs": [],
   "source": [
    "from keras.preprocessing.image import ImageDataGenerator\n",
    "train_datagen = ImageDataGenerator(\n",
    "        rescale=1./255,\n",
    "        shear_range=0.2,\n",
    "        zoom_range=0.2,\n",
    "        horizontal_flip=True)\n",
    "test_datagen = ImageDataGenerator(rescale=1./255)\n"
   ]
  },
  {
   "cell_type": "code",
   "execution_count": null,
   "metadata": {},
   "outputs": [],
   "source": [
    "training_set = train_datagen.flow_from_directory('Train',\n",
    "                                                   target_size=(32, 32),\n",
    "                                                    batch_size=32,\n",
    "                                                    color_mode = 'grayscale',\n",
    "                                                    class_mode='categorical')"
   ]
  },
  {
   "cell_type": "code",
   "execution_count": null,
   "metadata": {},
   "outputs": [],
   "source": [
    "test_set = test_datagen.flow_from_directory('Test',\n",
    "                                                target_size=(32, 32),\n",
    "                                                \n",
    "                                                color_mode = 'grayscale',\n",
    "                                                batch_size=1,\n",
    "                                                shuffle = False,\n",
    "                                                seed = 2076,\n",
    "                                                class_mode='categorical')"
   ]
  },
  {
   "cell_type": "code",
   "execution_count": null,
   "metadata": {},
   "outputs": [],
   "source": [
    "sample_size = training_set.n\n",
    "batch_size = 32\n",
    "history =classifier.fit_generator(training_set,\n",
    "                            steps_per_epoch=sample_size // batch_size,\n",
    "                            epochs=1,\n",
    "                            validation_data=test_set,\n",
    "                            validation_steps=13800,\n",
    "                            \n",
    "                            )\n"
   ]
  },
  {
   "cell_type": "code",
   "execution_count": 2,
   "metadata": {},
   "outputs": [
    {
     "ename": "NameError",
     "evalue": "name 'classifier' is not defined",
     "output_type": "error",
     "traceback": [
      "\u001b[1;31m---------------------------------------------------------------------------\u001b[0m",
      "\u001b[1;31mNameError\u001b[0m                                 Traceback (most recent call last)",
      "\u001b[1;32m<ipython-input-2-21e72d66941f>\u001b[0m in \u001b[0;36m<module>\u001b[1;34m\u001b[0m\n\u001b[0;32m      1\u001b[0m \u001b[1;31m# print_summary(classifier)\u001b[0m\u001b[1;33m\u001b[0m\u001b[1;33m\u001b[0m\u001b[1;33m\u001b[0m\u001b[0m\n\u001b[1;32m----> 2\u001b[1;33m \u001b[0mclassifier\u001b[0m\u001b[1;33m.\u001b[0m\u001b[0msave\u001b[0m\u001b[1;33m(\u001b[0m\u001b[1;34m'new.h5'\u001b[0m\u001b[1;33m)\u001b[0m\u001b[1;33m\u001b[0m\u001b[1;33m\u001b[0m\u001b[0m\n\u001b[0m",
      "\u001b[1;31mNameError\u001b[0m: name 'classifier' is not defined"
     ]
    }
   ],
   "source": [
    "# print_summary(classifier)\n",
    "classifier.save('new.h5')"
   ]
  },
  {
   "cell_type": "code",
   "execution_count": 28,
   "metadata": {},
   "outputs": [],
   "source": [
    "from keras.models import load_model\n",
    "from keras_preprocessing.image import load_img, img_to_array\n",
    "import numpy as np\n",
    "import tensorflow as tf\n",
    "\n",
    "\n",
    "# load model\n",
    "model_path = 'new.h5'\n",
    "convnet = load_model(model_path)\n",
    "graph = tf.get_default_graph()\n",
    "\n",
    "nepali=['ka','khaa','ga','4','5','6','7','8','9','10','क','12','13','14','15','16','17','18','19','20','21','kha','23','24','25','26','27','28','29','30','31','32','33','34','35','36','o', '१' ,'२' , '३', '४', '५', '६', '७', '८', '९']\n",
    "\n",
    "def predict_character(image_file):\n",
    "    global graph\n",
    "    with graph.as_default():\n",
    "        image_loaded = load_img(image_file,target_size=(32,32),color_mode='grayscale')\n",
    "        img_arr = (img_to_array(image_loaded)/255.0).reshape(1,32,32,1)\n",
    "        probabilities = convnet.predict(img_arr)\n",
    "        pred = np.argmax(probabilities)\n",
    "        return nepali[pred], np.amax(probabilities)"
   ]
  },
  {
   "cell_type": "code",
   "execution_count": 29,
   "metadata": {},
   "outputs": [
    {
     "data": {
      "text/plain": [
       "('क', 0.9999821)"
      ]
     },
     "execution_count": 29,
     "metadata": {},
     "output_type": "execute_result"
    }
   ],
   "source": [
    "predict_character(\"k.png\")"
   ]
  },
  {
   "cell_type": "code",
   "execution_count": 27,
   "metadata": {},
   "outputs": [
    {
     "data": {
      "text/plain": [
       "('७', 0.4250083)"
      ]
     },
     "execution_count": 27,
     "metadata": {},
     "output_type": "execute_result"
    },
    {
     "data": {
      "image/png": "[encoded data removed]",
      "text/plain": [
       "<Figure size 432x288 with 1 Axes>"
      ]
     },
     "metadata": {
      "needs_background": "light"
     },
     "output_type": "display_data"
    }
   ],
   "source": [
    "import matplotlib.pyplot as plt\n",
    "c = plt.imread('khaaa.png')\n",
    "plt.imshow(c)\n",
    "predict_character(\"khaaa.png\")"
   ]
  },
  {
   "cell_type": "code",
   "execution_count": 12,
   "metadata": {},
   "outputs": [
    {
     "data": {
      "text/plain": [
       "('31', 0.57518405)"
      ]
     },
     "execution_count": 12,
     "metadata": {},
     "output_type": "execute_result"
    }
   ],
   "source": [
    "predict_character(\"ghaa.png\")"
   ]
  },
  {
   "cell_type": "code",
   "execution_count": null,
   "metadata": {},
   "outputs": [],
   "source": [
    "predict_character(\"5.png\")"
   ]
  },
  {
   "cell_type": "code",
   "execution_count": null,
   "metadata": {},
   "outputs": [],
   "source": []
  }
 ],
 "metadata": {
  "kernelspec": {
   "display_name": "Python 3",
   "language": "python",
   "name": "python3"
  },
  "language_info": {
   "codemirror_mode": {
    "name": "ipython",
    "version": 3
   },
   "file_extension": ".py",
   "mimetype": "text/x-python",
   "name": "python",
   "nbconvert_exporter": "python",
   "pygments_lexer": "ipython3",
   "version": "3.7.4"
  }
 },
 "nbformat": 4,
 "nbformat_minor": 2
}
