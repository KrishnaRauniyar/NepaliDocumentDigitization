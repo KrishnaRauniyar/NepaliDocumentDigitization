{
 "cells": [
  {
   "cell_type": "code",
   "execution_count": 1,
   "metadata": {},
   "outputs": [
    {
     "name": "stderr",
     "output_type": "stream",
     "text": [
      "Using TensorFlow backend.\n"
     ]
    }
   ],
   "source": [
    "import matplotlib.pyplot as plt\n",
    "from PIL import Image\n",
    "import numpy as np\n",
    "import random\n",
    "from keras.preprocessing.image import ImageDataGenerator\n",
    "from keras import layers, callbacks, optimizers, models\n",
    "from keras.models import Sequential"
   ]
  },
  {
   "cell_type": "code",
   "execution_count": 2,
   "metadata": {},
   "outputs": [
    {
     "name": "stdout",
     "output_type": "stream",
     "text": [
      "WARNING:tensorflow:From C:\\Users\\Krishna\\Anaconda3\\lib\\site-packages\\tensorflow_core\\python\\ops\\resource_variable_ops.py:1630: calling BaseResourceVariable.__init__ (from tensorflow.python.ops.resource_variable_ops) with constraint is deprecated and will be removed in a future version.\n",
      "Instructions for updating:\n",
      "If using Keras pass *_constraint arguments to layers.\n",
      "WARNING:tensorflow:From C:\\Users\\Krishna\\Anaconda3\\lib\\site-packages\\keras\\backend\\tensorflow_backend.py:4070: The name tf.nn.max_pool is deprecated. Please use tf.nn.max_pool2d instead.\n",
      "\n"
     ]
    }
   ],
   "source": [
    "num_of_classes = 46\n",
    "classifier = Sequential()\n",
    "classifier.add(layers.Conv2D(32, (3,3), activation='relu', input_shape=(32,32,1)))\n",
    "classifier.add(layers.MaxPooling2D((2,2)))\n",
    "classifier.add(layers.Conv2D(64, (3,3), activation='relu'))\n",
    "classifier.add(layers.MaxPooling2D((2,2)))\n",
    "classifier.add(layers.Conv2D(64,(3,3), activation='relu'))\n",
    "classifier.add(layers.Flatten())\n",
    "classifier.add(layers.Dense(num_of_classes, activation='relu'))\n",
    "classifier.add(layers.Dense(num_of_classes, activation='softmax'))\n",
    "# classifier.compile(optimizer='adam',loss='categorical_crossentropy',metrics=['accuracy'])\n",
    "opt = optimizers.Adam(lr=0.0015, beta_1=0.9, beta_2=0.99, decay=0.0, amsgrad=False)\n",
    "classifier.compile(optimizer=opt, loss='categorical_crossentropy', metrics=['accuracy'])"
   ]
  },
  {
   "cell_type": "code",
   "execution_count": 3,
   "metadata": {},
   "outputs": [],
   "source": [
    "from keras.preprocessing.image import ImageDataGenerator\n",
    "train_datagen = ImageDataGenerator(\n",
    "        rescale=1./255,\n",
    "        shear_range=0.2,\n",
    "        zoom_range=0.2,\n",
    "        horizontal_flip=True)\n",
    "test_datagen = ImageDataGenerator(rescale=1./255)"
   ]
  },
  {
   "cell_type": "code",
   "execution_count": 4,
   "metadata": {},
   "outputs": [
    {
     "name": "stdout",
     "output_type": "stream",
     "text": [
      "Found 78200 images belonging to 46 classes.\n"
     ]
    }
   ],
   "source": [
    "training_set = train_datagen.flow_from_directory('Train',\n",
    "                                                   target_size=(32, 32),\n",
    "                                                    batch_size=32,\n",
    "                                                    color_mode = 'grayscale',\n",
    "                                                    class_mode='categorical')"
   ]
  },
  {
   "cell_type": "code",
   "execution_count": 5,
   "metadata": {},
   "outputs": [
    {
     "name": "stdout",
     "output_type": "stream",
     "text": [
      "Found 13800 images belonging to 46 classes.\n"
     ]
    }
   ],
   "source": [
    "test_set = test_datagen.flow_from_directory('Test',\n",
    "                                                target_size=(32, 32),\n",
    "                                                \n",
    "                                                color_mode = 'grayscale',\n",
    "                                                batch_size=1,\n",
    "                                                shuffle = False,\n",
    "                                                seed = 2076,\n",
    "                                                class_mode='categorical')"
   ]
  },
  {
   "cell_type": "code",
   "execution_count": null,
   "metadata": {},
   "outputs": [
    {
     "name": "stdout",
     "output_type": "stream",
     "text": [
      "WARNING:tensorflow:From C:\\Users\\Krishna\\Anaconda3\\lib\\site-packages\\keras\\backend\\tensorflow_backend.py:422: The name tf.global_variables is deprecated. Please use tf.compat.v1.global_variables instead.\n",
      "\n",
      "Epoch 1/1\n",
      "1671/2443 [===================>..........] - ETA: 27s - loss: 1.3269 - accuracy: 0.6232"
     ]
    }
   ],
   "source": [
    "sample_size = training_set.n\n",
    "batch_size = 32\n",
    "history =classifier.fit_generator(training_set,\n",
    "                            steps_per_epoch=sample_size // batch_size,\n",
    "                            epochs=1,\n",
    "                            validation_data=test_set,\n",
    "                            validation_steps=13800,\n",
    "                            \n",
    "                            )"
   ]
  },
  {
   "cell_type": "code",
   "execution_count": null,
   "metadata": {},
   "outputs": [],
   "source": [
    "classifier.save('anvil.h5')"
   ]
  },
  {
   "cell_type": "code",
   "execution_count": null,
   "metadata": {},
   "outputs": [],
   "source": [
    "from keras.models import load_model\n",
    "from keras_preprocessing.image import load_img, img_to_array\n",
    "import numpy as np\n",
    "import tensorflow as tf\n",
    "\n",
    "\n",
    "# load model\n",
    "model_path = 'new.h5'\n",
    "convnet = load_model(model_path)\n",
    "graph = tf.get_default_graph()\n",
    "\n",
    "nepali=['ka','khaa','ga','4','5','6','7','8','9','10','क','12','13','14','15','16','17','18','19','20','21','kha','23','24','25','26','27','28','29','30','31','32','33','34','35','36','o', '१' ,'२' , '३', '४', '५', '६', '७', '८', '९']\n",
    "\n",
    "def predict_character(image_file):\n",
    "    global graph\n",
    "    with graph.as_default():\n",
    "        image_loaded = load_img(image_file,target_size=(32,32),color_mode='grayscale')\n",
    "        img_arr = (img_to_array(image_loaded)/255.0).reshape(1,32,32,1)\n",
    "        probabilities = convnet.predict(img_arr)\n",
    "        pred = np.argmax(probabilities)\n",
    "        return nepali[pred], np.amax(probabilities)"
   ]
  }
 ],
 "metadata": {
  "kernelspec": {
   "display_name": "Python 3",
   "language": "python",
   "name": "python3"
  },
  "language_info": {
   "codemirror_mode": {
    "name": "ipython",
    "version": 3
   },
   "file_extension": ".py",
   "mimetype": "text/x-python",
   "name": "python",
   "nbconvert_exporter": "python",
   "pygments_lexer": "ipython3",
   "version": "3.7.4"
  }
 },
 "nbformat": 4,
 "nbformat_minor": 2
}
